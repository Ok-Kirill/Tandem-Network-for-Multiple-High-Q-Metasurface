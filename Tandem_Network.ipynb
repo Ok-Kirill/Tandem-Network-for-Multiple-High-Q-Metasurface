{
  "nbformat": 4,
  "nbformat_minor": 0,
  "metadata": {
    "colab": {
      "provenance": []
    },
    "kernelspec": {
      "name": "python3",
      "display_name": "Python 3"
    },
    "language_info": {
      "name": "python"
    }
  },
  "cells": [
    {
      "cell_type": "code",
      "execution_count": null,
      "metadata": {
        "id": "TJuMoPD1J8Hx"
      },
      "outputs": [],
      "source": [
        "class FORWARD_model(nn.Module):\n",
        "\n",
        "    def __init__(self):\n",
        "        super(CNN_model, self).__init__()\n",
        "        self.conv_stack = nn.Sequential(\n",
        "            nn.Conv1d(7, 500, 3, padding=1), # in channel=7, out=500\n",
        "            #nn.MaxPool2d(2), # size [,,]\n",
        "            nn.ReLU(),\n",
        "            nn.Conv1d(500, 200, 3, padding=1), # in channel=500, out=200\n",
        "            nn.ReLU(),\n",
        "            nn.Conv1d(200, 200, 3, padding=1), # in channel=200, out=200\n",
        "            nn.ReLU(),\n",
        "            nn.Conv1d(200, 200, 3, padding=1), # in channel=200, out=200\n",
        "            nn.ReLU(),\n",
        "            #nn.Conv1d(200, 200, 3, padding=1), # in channel=200, out=200\n",
        "            #nn.ReLU(),\n",
        "            nn.Flatten(),\n",
        "            nn.Linear(200*1*1, 100), # in = channel*heght*width\n",
        "            nn.ReLU(),\n",
        "            nn.Linear(100, 4)\n",
        "        )\n",
        "\n",
        "    def forward(self, x): \n",
        "        x = self.conv_stack(x) \n",
        "        return x"
      ]
    },
    {
      "cell_type": "code",
      "source": [
        "class INVERSE_model(nn.Module):\n",
        "\n",
        "    def __init__(self):\n",
        "        super(CNN_model, self).__init__()\n",
        "        self.conv_stack = nn.Sequential(\n",
        "            nn.Conv1d(4, 500, 3, padding=1), # in channel=7, out=500\n",
        "            #nn.MaxPool2d(2), # size [,,]\n",
        "            nn.ReLU(),\n",
        "            nn.Conv1d(500, 200, 3, padding=1), # in channel=500, out=200\n",
        "            nn.ReLU(),\n",
        "            nn.Flatten(),\n",
        "            nn.Linear(200*1*1, 100), # in = channel*heght*width\n",
        "            nn.ReLU(),\n",
        "            nn.Linear(100, 7)\n",
        "        )\n",
        "\n",
        "    def forward(self, x): \n",
        "        x = self.conv_stack(x) \n",
        "        return x"
      ],
      "metadata": {
        "id": "S5wYk4mZbfSy"
      },
      "execution_count": null,
      "outputs": []
    }
  ]
}